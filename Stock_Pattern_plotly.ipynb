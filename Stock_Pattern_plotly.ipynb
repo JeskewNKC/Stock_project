{
 "cells": [
  {
   "cell_type": "code",
   "execution_count": 27,
   "metadata": {},
   "outputs": [
    {
     "data": {
      "text/html": [
       "<iframe id=\"igraph\" scrolling=\"no\" style=\"border:none;\" seamless=\"seamless\" src=\"https://plot.ly/~jeskewnkc/2.embed\" height=\"525px\" width=\"100%\"></iframe>"
      ],
      "text/plain": [
       "<plotly.tools.PlotlyDisplay object>"
      ]
     },
     "execution_count": 27,
     "metadata": {},
     "output_type": "execute_result"
    }
   ],
   "source": [
    "import datetime as dt\n",
    "import plotly.plotly as py\n",
    "import plotly.graph_objs as go\n",
    "from plotly.tools import FigureFactory as FF\n",
    "\n",
    "import numpy as np\n",
    "import pandas as pd\n",
    "import scipy\n",
    "import peakutils\n",
    "\n",
    "err_allowed = 10.0/100\n",
    "df = pd.read_table(\"E:/Stock Data/QQQ.txt\", delimiter=',', parse_dates=True,\n",
    "                   names=['date', 'open', 'high', 'low', 'close', 'volume'])\n",
    "time_series = df['close']\n",
    "time_series = time_series.tolist()\n",
    "cb = np.array(time_series)\n",
    "\n",
    "indices = peakutils.indexes(cb[:100], thres=0.02/max(cb[:100]), min_dist=0.01)\n",
    "\n",
    "trace = go.Scatter(\n",
    "    x=[j for j in range(len(time_series[:100]))],\n",
    "    y=time_series[:100],\n",
    "    mode='lines',\n",
    "    name='Original Plot'\n",
    ")\n",
    "\n",
    "trace2 = go.Scatter(\n",
    "    x=indices,\n",
    "    y=[time_series[j] for j in indices],\n",
    "    mode='markers',\n",
    "    marker=dict(\n",
    "        size=8,\n",
    "        color='rgb(255,0,0)',\n",
    "        symbol='cross'\n",
    "    ),\n",
    "    name='Detected Peaks'\n",
    ")\n",
    "\n",
    "data = [trace, trace2]\n",
    "py.iplot(data, filename='simple_candlestick')"
   ]
  }
 ],
 "metadata": {
  "kernelspec": {
   "display_name": "Python 3",
   "language": "python",
   "name": "python3"
  },
  "language_info": {
   "codemirror_mode": {
    "name": "ipython",
    "version": 3
   },
   "file_extension": ".py",
   "mimetype": "text/x-python",
   "name": "python",
   "nbconvert_exporter": "python",
   "pygments_lexer": "ipython3",
   "version": "3.6.5"
  }
 },
 "nbformat": 4,
 "nbformat_minor": 2
}
